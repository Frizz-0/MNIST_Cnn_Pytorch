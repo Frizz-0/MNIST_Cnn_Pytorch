{
 "cells": [
  {
   "cell_type": "markdown",
   "metadata": {},
   "source": [
    "<h1> MNIST in Pytorch <h1>"
   ]
  },
  {
   "cell_type": "code",
   "execution_count": 21,
   "metadata": {},
   "outputs": [],
   "source": [
    "import torch\n",
    "import torch.nn as nn\n",
    "import torch.nn.functional as F\n",
    "import torch.optim as optim\n",
    "from torch.utils.data import DataLoader\n",
    "from torchvision import datasets, transforms\n",
    "\n",
    "import numpy as np\n",
    "import cv2\n",
    "import matplotlib.pyplot as plt\n",
    "%matplotlib inline\n"
   ]
  },
  {
   "cell_type": "code",
   "execution_count": 22,
   "metadata": {},
   "outputs": [],
   "source": [
    "# transform = transforms.Compose([transforms.ToTensor(), transforms.Normalize((0.5,), (0.5))])\n",
    "transform = transforms.ToTensor()\n",
    "train_dataset = datasets.MNIST(root = './data', train = True, transform = transform, download = True)\n",
    "test_dataset = datasets.MNIST(root = './data', train = False, transform = transform, download = True)\n",
    "train_loader = DataLoader(train_dataset, batch_size = 32, shuffle = True)\n",
    "test_loader = DataLoader(test_dataset, batch_size= 32, shuffle = False)"
   ]
  },
  {
   "cell_type": "code",
   "execution_count": 23,
   "metadata": {},
   "outputs": [
    {
     "data": {
      "text/plain": [
       "torch.Size([1, 28, 28])"
      ]
     },
     "execution_count": 23,
     "metadata": {},
     "output_type": "execute_result"
    }
   ],
   "source": [
    "# len(train_loader.dataset)\n",
    "test_dataset[0][0].shape"
   ]
  },
  {
   "cell_type": "code",
   "execution_count": 24,
   "metadata": {},
   "outputs": [],
   "source": [
    "# Creating our NN\n",
    "\n",
    "class MNIST_NN(nn.Module):\n",
    "\n",
    "    def __init__(self):\n",
    "        super().__init__()\n",
    "\n",
    "        #Convolutional Layers\n",
    "        self.conv1 = nn.Conv2d(1,32,3,1,1)\n",
    "        self.conv2 = nn.Conv2d(32,64,3,1,1)\n",
    "\n",
    "        #Fully connected Layers\n",
    "        self.fc1 = nn.Linear(7*7*64, 128)\n",
    "        self.fc2 = nn.Linear(128, 10)\n",
    "\n",
    "    def forward(self,x):\n",
    "\n",
    "        #Convolutional Layers and Pooling\n",
    "        x = F.relu(self.conv1(x))\n",
    "        x = F.max_pool2d(x,2,2)\n",
    "\n",
    "        x = F.relu(self.conv2(x))\n",
    "        x = F.max_pool2d(x,2,2)\n",
    "\n",
    "        x = x.view(-1,7*7*64)\n",
    "\n",
    "        #Fully connected Layers\n",
    "\n",
    "        x = F.relu(self.fc1(x))\n",
    "        x = self.fc2(x)\n",
    "\n",
    "        return F.log_softmax(x,dim = 1)"
   ]
  },
  {
   "cell_type": "code",
   "execution_count": 25,
   "metadata": {},
   "outputs": [
    {
     "data": {
      "text/plain": [
       "device(type='cpu')"
      ]
     },
     "execution_count": 25,
     "metadata": {},
     "output_type": "execute_result"
    }
   ],
   "source": [
    "device = torch.device('cuda:0' if torch.cuda.is_available() else 'cpu')\n",
    "device"
   ]
  },
  {
   "cell_type": "code",
   "execution_count": 26,
   "metadata": {},
   "outputs": [
    {
     "data": {
      "text/plain": [
       "MNIST_NN(\n",
       "  (conv1): Conv2d(1, 32, kernel_size=(3, 3), stride=(1, 1), padding=(1, 1))\n",
       "  (conv2): Conv2d(32, 64, kernel_size=(3, 3), stride=(1, 1), padding=(1, 1))\n",
       "  (fc1): Linear(in_features=3136, out_features=128, bias=True)\n",
       "  (fc2): Linear(in_features=128, out_features=10, bias=True)\n",
       ")"
      ]
     },
     "execution_count": 26,
     "metadata": {},
     "output_type": "execute_result"
    }
   ],
   "source": [
    "torch.manual_seed(1)\n",
    "model = MNIST_NN()\n",
    "model = model.to(device)\n",
    "model"
   ]
  },
  {
   "cell_type": "code",
   "execution_count": 27,
   "metadata": {},
   "outputs": [],
   "source": [
    "optimizer = optim.Adam(model.parameters(),lr =0.001)\n",
    "criterion = nn.CrossEntropyLoss()"
   ]
  },
  {
   "cell_type": "code",
   "execution_count": 28,
   "metadata": {},
   "outputs": [],
   "source": [
    "#Save models at checkpoints\n",
    "\n",
    "def save_checkpoint(model):\n",
    "    torch.save(model.state_dict(),'models/best.pt')\n",
    "\n",
    "def last_checkpoint(model):\n",
    "    \n",
    "    torch.save(model.state_dict(),'models/last.pt')"
   ]
  },
  {
   "cell_type": "code",
   "execution_count": 29,
   "metadata": {},
   "outputs": [],
   "source": [
    "def train_nn(epochs):\n",
    "\n",
    "    model.train()\n",
    "\n",
    "    test_losses = []\n",
    "    train_losses = []\n",
    "    test_crr = 0\n",
    "    train_crr = 0\n",
    "\n",
    "    last = 0\n",
    "    best_acc = 0\n",
    "\n",
    "    for epoch in range(epochs):\n",
    "         \n",
    "        last += 1\n",
    "        print(f\"Epoch : {epoch+1}\")\n",
    "\n",
    "\n",
    "        for count, (X_train,y_train) in enumerate(train_loader):\n",
    "            \n",
    "            X_train,y_train = X_train.to(device), y_train.to(device)            \n",
    "            optimizer.zero_grad()\n",
    "\n",
    "            y_pred = model(X_train)\n",
    "\n",
    "            loss = criterion(y_pred, y_train)\n",
    "\n",
    "            train_losses.append(loss.detach().numpy())\n",
    "\n",
    "            predicted = torch.max(y_pred.data, 1)[1]\n",
    "            train_crr += (predicted == y_train).sum().item()\n",
    "            \n",
    "            loss.backward()\n",
    "            optimizer.step()\n",
    "\n",
    "            if count %200 == 0 :\n",
    "                print(f\"Train dataset: {count * len(X_train)} / {len(train_loader.dataset)} , Accuracy {100. * count / len(train_loader): .0f}% , Loss {loss:.6f}\")    \n",
    "\n",
    "\n",
    "        with torch.no_grad():\n",
    "\n",
    "            t_loss = 0\n",
    "            test_crr = 0\n",
    "\n",
    "            model.eval()\n",
    "\n",
    "            for k, (X_test,y_test) in enumerate(test_loader):\n",
    "\n",
    "                X_test,y_test = X_test.to(device), y_test.to(device)\n",
    "            \n",
    "                y_eval = model(X_test)\n",
    "\n",
    "                predicted = torch.max(y_eval.data, 1)[1] # Adding up correct predictions\n",
    "                test_crr += (predicted == y_test).sum().item() # T=1 F=0 and sum away\n",
    "\n",
    "\n",
    "            t_loss = criterion(y_eval, y_test)\n",
    "            test_losses.append(t_loss.detach().numpy())\n",
    "\n",
    "\n",
    "        eval_acc = 100.00 * (test_crr/k)\n",
    "\n",
    "        print(f\"Test dataset: Accuracy {test_crr} / {len(test_loader.dataset)} , Accuracy {100. * test_crr / len(test_loader.dataset): .0f}% , Loss {t_loss:.6f}\")\n",
    "\n",
    "\n",
    "        if eval_acc > best_acc:\n",
    "            best_acc = eval_acc\n",
    "            save_checkpoint(model)\n",
    "            \n",
    "        if last == epochs:\n",
    "            last_checkpoint(model)\n",
    "\n"
   ]
  },
  {
   "cell_type": "code",
   "execution_count": 30,
   "metadata": {},
   "outputs": [
    {
     "name": "stdout",
     "output_type": "stream",
     "text": [
      "Epoch : 1\n",
      "Train dataset: 0 / 60000 , Accuracy  0% , Loss 2.325196\n",
      "Train dataset: 6400 / 60000 , Accuracy  11% , Loss 0.113714\n",
      "Train dataset: 12800 / 60000 , Accuracy  21% , Loss 0.121940\n",
      "Train dataset: 19200 / 60000 , Accuracy  32% , Loss 0.049819\n",
      "Train dataset: 25600 / 60000 , Accuracy  43% , Loss 0.018969\n",
      "Train dataset: 32000 / 60000 , Accuracy  53% , Loss 0.090769\n",
      "Train dataset: 38400 / 60000 , Accuracy  64% , Loss 0.149405\n",
      "Train dataset: 44800 / 60000 , Accuracy  75% , Loss 0.004915\n",
      "Train dataset: 51200 / 60000 , Accuracy  85% , Loss 0.016028\n",
      "Train dataset: 57600 / 60000 , Accuracy  96% , Loss 0.178755\n",
      "Test dataset: Accuracy 9867 / 10000 , Accuracy  99% , Loss 0.000992\n",
      "Epoch : 2\n",
      "Train dataset: 0 / 60000 , Accuracy  0% , Loss 0.036795\n",
      "Train dataset: 6400 / 60000 , Accuracy  11% , Loss 0.007527\n",
      "Train dataset: 12800 / 60000 , Accuracy  21% , Loss 0.003238\n",
      "Train dataset: 19200 / 60000 , Accuracy  32% , Loss 0.211297\n",
      "Train dataset: 25600 / 60000 , Accuracy  43% , Loss 0.042110\n",
      "Train dataset: 32000 / 60000 , Accuracy  53% , Loss 0.033980\n",
      "Train dataset: 38400 / 60000 , Accuracy  64% , Loss 0.012372\n",
      "Train dataset: 44800 / 60000 , Accuracy  75% , Loss 0.074990\n",
      "Train dataset: 51200 / 60000 , Accuracy  85% , Loss 0.035853\n",
      "Train dataset: 57600 / 60000 , Accuracy  96% , Loss 0.004073\n",
      "Test dataset: Accuracy 9879 / 10000 , Accuracy  99% , Loss 0.000872\n",
      "Epoch : 3\n",
      "Train dataset: 0 / 60000 , Accuracy  0% , Loss 0.008969\n",
      "Train dataset: 6400 / 60000 , Accuracy  11% , Loss 0.035747\n",
      "Train dataset: 12800 / 60000 , Accuracy  21% , Loss 0.011386\n",
      "Train dataset: 19200 / 60000 , Accuracy  32% , Loss 0.004128\n",
      "Train dataset: 25600 / 60000 , Accuracy  43% , Loss 0.022345\n",
      "Train dataset: 32000 / 60000 , Accuracy  53% , Loss 0.118082\n",
      "Train dataset: 38400 / 60000 , Accuracy  64% , Loss 0.001284\n",
      "Train dataset: 44800 / 60000 , Accuracy  75% , Loss 0.009681\n",
      "Train dataset: 51200 / 60000 , Accuracy  85% , Loss 0.042537\n",
      "Train dataset: 57600 / 60000 , Accuracy  96% , Loss 0.007717\n",
      "Test dataset: Accuracy 9861 / 10000 , Accuracy  99% , Loss 0.000324\n",
      "Epoch : 4\n",
      "Train dataset: 0 / 60000 , Accuracy  0% , Loss 0.012947\n",
      "Train dataset: 6400 / 60000 , Accuracy  11% , Loss 0.002934\n",
      "Train dataset: 12800 / 60000 , Accuracy  21% , Loss 0.027847\n",
      "Train dataset: 19200 / 60000 , Accuracy  32% , Loss 0.008334\n",
      "Train dataset: 25600 / 60000 , Accuracy  43% , Loss 0.005120\n",
      "Train dataset: 32000 / 60000 , Accuracy  53% , Loss 0.040789\n",
      "Train dataset: 38400 / 60000 , Accuracy  64% , Loss 0.033767\n",
      "Train dataset: 44800 / 60000 , Accuracy  75% , Loss 0.004994\n",
      "Train dataset: 51200 / 60000 , Accuracy  85% , Loss 0.044420\n",
      "Train dataset: 57600 / 60000 , Accuracy  96% , Loss 0.001728\n",
      "Test dataset: Accuracy 9894 / 10000 , Accuracy  99% , Loss 0.000018\n",
      "Epoch : 5\n",
      "Train dataset: 0 / 60000 , Accuracy  0% , Loss 0.000106\n",
      "Train dataset: 6400 / 60000 , Accuracy  11% , Loss 0.001596\n",
      "Train dataset: 12800 / 60000 , Accuracy  21% , Loss 0.000982\n",
      "Train dataset: 19200 / 60000 , Accuracy  32% , Loss 0.068906\n",
      "Train dataset: 25600 / 60000 , Accuracy  43% , Loss 0.025380\n",
      "Train dataset: 32000 / 60000 , Accuracy  53% , Loss 0.006707\n",
      "Train dataset: 38400 / 60000 , Accuracy  64% , Loss 0.000251\n",
      "Train dataset: 44800 / 60000 , Accuracy  75% , Loss 0.001664\n",
      "Train dataset: 51200 / 60000 , Accuracy  85% , Loss 0.000648\n",
      "Train dataset: 57600 / 60000 , Accuracy  96% , Loss 0.002443\n",
      "Test dataset: Accuracy 9913 / 10000 , Accuracy  99% , Loss 0.000011\n",
      "Epoch : 6\n",
      "Train dataset: 0 / 60000 , Accuracy  0% , Loss 0.000271\n",
      "Train dataset: 6400 / 60000 , Accuracy  11% , Loss 0.002232\n",
      "Train dataset: 12800 / 60000 , Accuracy  21% , Loss 0.000349\n",
      "Train dataset: 19200 / 60000 , Accuracy  32% , Loss 0.000145\n",
      "Train dataset: 25600 / 60000 , Accuracy  43% , Loss 0.013780\n",
      "Train dataset: 32000 / 60000 , Accuracy  53% , Loss 0.000747\n",
      "Train dataset: 38400 / 60000 , Accuracy  64% , Loss 0.013190\n",
      "Train dataset: 44800 / 60000 , Accuracy  75% , Loss 0.000130\n",
      "Train dataset: 51200 / 60000 , Accuracy  85% , Loss 0.002323\n",
      "Train dataset: 57600 / 60000 , Accuracy  96% , Loss 0.001512\n",
      "Test dataset: Accuracy 9910 / 10000 , Accuracy  99% , Loss 0.000001\n",
      "Epoch : 7\n",
      "Train dataset: 0 / 60000 , Accuracy  0% , Loss 0.000213\n",
      "Train dataset: 6400 / 60000 , Accuracy  11% , Loss 0.001492\n",
      "Train dataset: 12800 / 60000 , Accuracy  21% , Loss 0.000172\n",
      "Train dataset: 19200 / 60000 , Accuracy  32% , Loss 0.000010\n",
      "Train dataset: 25600 / 60000 , Accuracy  43% , Loss 0.000044\n",
      "Train dataset: 32000 / 60000 , Accuracy  53% , Loss 0.001840\n",
      "Train dataset: 38400 / 60000 , Accuracy  64% , Loss 0.001246\n",
      "Train dataset: 44800 / 60000 , Accuracy  75% , Loss 0.003664\n",
      "Train dataset: 51200 / 60000 , Accuracy  85% , Loss 0.084798\n",
      "Train dataset: 57600 / 60000 , Accuracy  96% , Loss 0.002420\n",
      "Test dataset: Accuracy 9914 / 10000 , Accuracy  99% , Loss 0.000002\n",
      "Epoch : 8\n",
      "Train dataset: 0 / 60000 , Accuracy  0% , Loss 0.000167\n",
      "Train dataset: 6400 / 60000 , Accuracy  11% , Loss 0.000610\n",
      "Train dataset: 12800 / 60000 , Accuracy  21% , Loss 0.001258\n",
      "Train dataset: 19200 / 60000 , Accuracy  32% , Loss 0.000039\n",
      "Train dataset: 25600 / 60000 , Accuracy  43% , Loss 0.000015\n",
      "Train dataset: 32000 / 60000 , Accuracy  53% , Loss 0.000080\n",
      "Train dataset: 38400 / 60000 , Accuracy  64% , Loss 0.032804\n",
      "Train dataset: 44800 / 60000 , Accuracy  75% , Loss 0.053883\n",
      "Train dataset: 51200 / 60000 , Accuracy  85% , Loss 0.001487\n",
      "Train dataset: 57600 / 60000 , Accuracy  96% , Loss 0.003095\n",
      "Test dataset: Accuracy 9920 / 10000 , Accuracy  99% , Loss 0.000003\n",
      "Epoch : 9\n",
      "Train dataset: 0 / 60000 , Accuracy  0% , Loss 0.001019\n",
      "Train dataset: 6400 / 60000 , Accuracy  11% , Loss 0.015211\n",
      "Train dataset: 12800 / 60000 , Accuracy  21% , Loss 0.000014\n",
      "Train dataset: 19200 / 60000 , Accuracy  32% , Loss 0.000013\n",
      "Train dataset: 25600 / 60000 , Accuracy  43% , Loss 0.003408\n",
      "Train dataset: 32000 / 60000 , Accuracy  53% , Loss 0.001232\n",
      "Train dataset: 38400 / 60000 , Accuracy  64% , Loss 0.000788\n",
      "Train dataset: 44800 / 60000 , Accuracy  75% , Loss 0.000892\n",
      "Train dataset: 51200 / 60000 , Accuracy  85% , Loss 0.076585\n",
      "Train dataset: 57600 / 60000 , Accuracy  96% , Loss 0.000102\n",
      "Test dataset: Accuracy 9912 / 10000 , Accuracy  99% , Loss 0.000000\n",
      "Epoch : 10\n",
      "Train dataset: 0 / 60000 , Accuracy  0% , Loss 0.000160\n",
      "Train dataset: 6400 / 60000 , Accuracy  11% , Loss 0.000339\n",
      "Train dataset: 12800 / 60000 , Accuracy  21% , Loss 0.000052\n",
      "Train dataset: 19200 / 60000 , Accuracy  32% , Loss 0.019352\n",
      "Train dataset: 25600 / 60000 , Accuracy  43% , Loss 0.000073\n",
      "Train dataset: 32000 / 60000 , Accuracy  53% , Loss 0.000085\n",
      "Train dataset: 38400 / 60000 , Accuracy  64% , Loss 0.000032\n",
      "Train dataset: 44800 / 60000 , Accuracy  75% , Loss 0.000752\n",
      "Train dataset: 51200 / 60000 , Accuracy  85% , Loss 0.000003\n",
      "Train dataset: 57600 / 60000 , Accuracy  96% , Loss 0.009313\n",
      "Test dataset: Accuracy 9903 / 10000 , Accuracy  99% , Loss 0.000029\n"
     ]
    }
   ],
   "source": [
    "train_nn(10)"
   ]
  },
  {
   "cell_type": "code",
   "execution_count": 31,
   "metadata": {},
   "outputs": [],
   "source": [
    "#Testing new Data with our model\n",
    "\n",
    "\n",
    "test_data_new = DataLoader(test_dataset, batch_size=10000, shuffle= False)\n",
    "\n",
    "with torch.no_grad():\n",
    "    correct = 0 \n",
    "    for l,(X_test,y_test) in enumerate(test_data_new):\n",
    "        y_eval = model(X_test)\n",
    "        predicted = torch.max(y_eval,1)[1]\n",
    "        correct += (predicted == y_test ).sum()"
   ]
  },
  {
   "cell_type": "code",
   "execution_count": 32,
   "metadata": {},
   "outputs": [
    {
     "data": {
      "text/plain": [
       "tensor(9903)"
      ]
     },
     "execution_count": 32,
     "metadata": {},
     "output_type": "execute_result"
    }
   ],
   "source": [
    "correct"
   ]
  },
  {
   "cell_type": "code",
   "execution_count": 33,
   "metadata": {},
   "outputs": [
    {
     "name": "stdout",
     "output_type": "stream",
     "text": [
      "1\n"
     ]
    },
    {
     "data": {
      "image/png": "[encoded data removed]",
      "text/plain": [
       "<Figure size 640x480 with 1 Axes>"
      ]
     },
     "metadata": {},
     "output_type": "display_data"
    }
   ],
   "source": [
    "td= test_dataset[2]\n",
    "plt.imshow(td[0].reshape(28,28))\n",
    "print(td[1])"
   ]
  },
  {
   "cell_type": "code",
   "execution_count": 34,
   "metadata": {},
   "outputs": [
    {
     "data": {
      "text/plain": [
       "MNIST_NN(\n",
       "  (conv1): Conv2d(1, 32, kernel_size=(3, 3), stride=(1, 1), padding=(1, 1))\n",
       "  (conv2): Conv2d(32, 64, kernel_size=(3, 3), stride=(1, 1), padding=(1, 1))\n",
       "  (fc1): Linear(in_features=3136, out_features=128, bias=True)\n",
       "  (fc2): Linear(in_features=128, out_features=10, bias=True)\n",
       ")"
      ]
     },
     "execution_count": 34,
     "metadata": {},
     "output_type": "execute_result"
    }
   ],
   "source": [
    "model.eval()"
   ]
  },
  {
   "cell_type": "code",
   "execution_count": 37,
   "metadata": {},
   "outputs": [
    {
     "name": "stdout",
     "output_type": "stream",
     "text": [
      "This Digit is probably 4\n"
     ]
    },
    {
     "data": {
      "image/png": "[encoded data removed]",
      "text/plain": [
       "<Figure size 640x480 with 1 Axes>"
      ]
     },
     "metadata": {},
     "output_type": "display_data"
    }
   ],
   "source": [
    "# img = cv2.imread(f'./Test/Digit{999}.jpg')[:,:,0]\n",
    "# img = np.invert(np.array([img]))\n",
    "\n",
    "img = cv2.imread(f'./Test/Digits/{4}.png')[:,:,0]\n",
    "img =(np.array([img]))\n",
    "\n",
    "img_tensor = torch.FloatTensor(img).unsqueeze(0)\n",
    "\n",
    "with torch.no_grad():\n",
    "\n",
    "    model.eval()\n",
    "\n",
    "    prediction = model(img_tensor)\n",
    "\n",
    "print(f\"This Digit is probably {prediction.argmax()}\")\n",
    "\n",
    "plt.imshow(img[0])\n",
    "plt.title(f'Predicted digit is {prediction.argmax()}')\n",
    "plt.show()"
   ]
  },
  {
   "cell_type": "code",
   "execution_count": null,
   "metadata": {},
   "outputs": [],
   "source": []
  }
 ],
 "metadata": {
  "kernelspec": {
   "display_name": "Python 3",
   "language": "python",
   "name": "python3"
  },
  "language_info": {
   "codemirror_mode": {
    "name": "ipython",
    "version": 3
   },
   "file_extension": ".py",
   "mimetype": "text/x-python",
   "name": "python",
   "nbconvert_exporter": "python",
   "pygments_lexer": "ipython3",
   "version": "3.12.4"
  }
 },
 "nbformat": 4,
 "nbformat_minor": 2
}
