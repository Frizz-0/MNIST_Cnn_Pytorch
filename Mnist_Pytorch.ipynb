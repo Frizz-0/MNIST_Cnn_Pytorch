{
 "cells": [
  {
   "cell_type": "markdown",
   "metadata": {},
   "source": [
    "<h1> MNIST in Pytorch <h1>"
   ]
  },
  {
   "cell_type": "code",
   "execution_count": 243,
   "metadata": {},
   "outputs": [],
   "source": [
    "import torch\n",
    "import torch.nn as nn\n",
    "import torch.nn.functional as F\n",
    "import torch.optim as optim\n",
    "from torch.utils.data import DataLoader\n",
    "from torchvision import datasets, transforms\n",
    "\n",
    "import numpy as np\n",
    "import cv2\n",
    "import matplotlib.pyplot as plt\n",
    "%matplotlib inline\n"
   ]
  },
  {
   "cell_type": "code",
   "execution_count": 219,
   "metadata": {},
   "outputs": [],
   "source": [
    "# transform = transforms.Compose([transforms.ToTensor(), transforms.Normalize((0.5,), (0.5))])\n",
    "transform = transforms.ToTensor()\n",
    "train_dataset = datasets.MNIST(root = './data', train = True, transform = transform, download = True)\n",
    "test_dataset = datasets.MNIST(root = './data', train = False, transform = transform, download = True)\n",
    "train_loader = DataLoader(train_dataset, batch_size = 500, shuffle = True)\n",
    "test_loader = DataLoader(test_dataset, batch_size=500, shuffle = False)"
   ]
  },
  {
   "cell_type": "code",
   "execution_count": 181,
   "metadata": {},
   "outputs": [
    {
     "data": {
      "text/plain": [
       "60000"
      ]
     },
     "execution_count": 181,
     "metadata": {},
     "output_type": "execute_result"
    }
   ],
   "source": [
    "len(train_loader.dataset)"
   ]
  },
  {
   "cell_type": "code",
   "execution_count": null,
   "metadata": {},
   "outputs": [
    {
     "data": {
      "text/plain": [
       "array([[1., 0., 0., 0., 0., 0., 0., 0., 0., 0.],\n",
       "       [0., 1., 0., 0., 0., 0., 0., 0., 0., 0.],\n",
       "       [0., 0., 1., 0., 0., 0., 0., 0., 0., 0.],\n",
       "       [0., 0., 0., 1., 0., 0., 0., 0., 0., 0.],\n",
       "       [0., 0., 0., 0., 1., 0., 0., 0., 0., 0.],\n",
       "       [0., 0., 0., 0., 0., 1., 0., 0., 0., 0.],\n",
       "       [0., 0., 0., 0., 0., 0., 1., 0., 0., 0.],\n",
       "       [0., 0., 0., 0., 0., 0., 0., 1., 0., 0.],\n",
       "       [0., 0., 0., 0., 0., 0., 0., 0., 1., 0.],\n",
       "       [0., 0., 0., 0., 0., 0., 0., 0., 0., 1.]])"
      ]
     },
     "execution_count": 257,
     "metadata": {},
     "output_type": "execute_result"
    }
   ],
   "source": [
    "# from sklearn.preprocessing import OneHotEncoder\n",
    "\n",
    "# ohe = OneHotEncoder(sparse_output=False, categories='auto') \n",
    "# ohe.fit_transform(np.arange(10).reshape(-1,1))"
   ]
  },
  {
   "cell_type": "code",
   "execution_count": null,
   "metadata": {},
   "outputs": [],
   "source": [
    "# Lets Create our NN\n",
    "\n",
    "class MNIST_NN(nn.Module):\n",
    "\n",
    "    def __init__(self):\n",
    "        super().__init__()\n",
    "\n",
    "        #Convolutional Layers\n",
    "        self.conv1 = nn.Conv2d(1,10,5,1)\n",
    "        self.conv2 = nn.Conv2d(10,20,5,1)\n",
    "\n",
    "        #Fully connected Layers\n",
    "        self.fc1 = nn.Linear(320, 128)\n",
    "        self.fc2 = nn.Linear(128 , 64)\n",
    "        self.fc3 = nn.Linear(64 , 10)\n",
    "\n",
    "    def forward(self,x):\n",
    "\n",
    "        #Convolutional Layers and Pooling\n",
    "        x = F.relu(self.conv1(x))\n",
    "        x = F.max_pool2d(x,2,2)\n",
    "\n",
    "        x = F.relu(self.conv2(x))\n",
    "        x = F.max_pool2d(x,2,2)\n",
    "\n",
    "        x = x.view(-1,320)\n",
    "\n",
    "        #Fully connected Layers\n",
    "\n",
    "        x = F.relu(self.fc1(x))\n",
    "        x = F.relu(self.fc2(x))\n",
    "        x = self.fc3(x)\n",
    "\n",
    "        return F.log_softmax(x,dim = 1)"
   ]
  },
  {
   "cell_type": "code",
   "execution_count": 140,
   "metadata": {},
   "outputs": [
    {
     "data": {
      "text/plain": [
       "device(type='cpu')"
      ]
     },
     "execution_count": 140,
     "metadata": {},
     "output_type": "execute_result"
    }
   ],
   "source": [
    "device = torch.device('cuda:0' if torch.cuda.is_available() else 'cpu')\n",
    "device"
   ]
  },
  {
   "cell_type": "code",
   "execution_count": 141,
   "metadata": {},
   "outputs": [
    {
     "data": {
      "text/plain": [
       "MNIST_NN(\n",
       "  (conv1): Conv2d(1, 10, kernel_size=(5, 5), stride=(1, 1))\n",
       "  (conv2): Conv2d(10, 20, kernel_size=(5, 5), stride=(1, 1))\n",
       "  (fc1): Linear(in_features=320, out_features=128, bias=True)\n",
       "  (fc2): Linear(in_features=128, out_features=64, bias=True)\n",
       "  (fc3): Linear(in_features=64, out_features=10, bias=True)\n",
       ")"
      ]
     },
     "execution_count": 141,
     "metadata": {},
     "output_type": "execute_result"
    }
   ],
   "source": [
    "torch.manual_seed(41)\n",
    "model = MNIST_NN()\n",
    "model = model.to(device)\n",
    "model"
   ]
  },
  {
   "cell_type": "code",
   "execution_count": 142,
   "metadata": {},
   "outputs": [],
   "source": [
    "optimizer = optim.Adam(model.parameters(),lr =0.001)\n",
    "criterion = nn.CrossEntropyLoss()"
   ]
  },
  {
   "cell_type": "code",
   "execution_count": null,
   "metadata": {},
   "outputs": [],
   "source": [
    "def save_checkpoint(model,optimzers,epoch,best_acc):\n",
    "    state = {\n",
    "        'epoch' : epoch + 1,\n",
    "        'model' : model.state_dict(),\n",
    "        'best accuracy' : best_acc,\n",
    "        'optimizers' : optimzers.state_dict(),\n",
    "        'comments' : 'Best_Accuracy',\n",
    "        \n",
    "    }\n",
    "\n",
    "    torch.save(state,'best.pth.tar')\n",
    "\n",
    "def last_checkpoint(model,optimizers):\n",
    "    state = {\n",
    "        'model' : model.state_dict(),\n",
    "        'optimizers' : optimizers.state_dict(),        \n",
    "    }\n",
    "    torch.save(state,'last.pth.tar')"
   ]
  },
  {
   "cell_type": "code",
   "execution_count": null,
   "metadata": {},
   "outputs": [],
   "source": [
    "def train_nn(epochs):\n",
    "\n",
    "    model.train()\n",
    "\n",
    "    test_losses = []\n",
    "    train_losses = []\n",
    "    test_crr = 0\n",
    "    train_crr = 0\n",
    "\n",
    "    last = 0\n",
    "    best_acc = 0\n",
    "\n",
    "    for epoch in range(epochs):\n",
    "         \n",
    "        last += 1\n",
    "        print(f\"Epoch : {epoch+1}\")\n",
    "\n",
    "\n",
    "        for count, (X_train,y_train) in enumerate(train_loader):\n",
    "            \n",
    "            X_train,y_train = X_train.to(device), y_train.to(device)      \n",
    "            optimizer.zero_grad()\n",
    "\n",
    "            y_pred = model(X_train)\n",
    "\n",
    "            loss = criterion(y_pred, y_train)\n",
    "\n",
    "            train_losses.append(loss.detach().numpy())\n",
    "\n",
    "            predicted = torch.max(y_pred.data, 1)[1]\n",
    "            train_crr += (predicted == y_train).sum().item()\n",
    "            \n",
    "            loss.backward()\n",
    "            optimizer.step()\n",
    "\n",
    "            if count %60 == 0 :\n",
    "                print(f\"Train dataset: Epoch {epoch+1}, {count * len(X_train)} / {len(train_loader.dataset)} , Accuracy {100. * count / len(train_loader): .0f}% , Loss {loss:.6f}\")    \n",
    "\n",
    "\n",
    "        with torch.no_grad():\n",
    "\n",
    "            t_loss = 0\n",
    "            test_crr = 0\n",
    "\n",
    "            model.eval()\n",
    "\n",
    "            for k, (X_test,y_test) in enumerate(test_loader):\n",
    "\n",
    "                X_test,y_test = X_test.to(device), y_test.to(device)\n",
    "        \n",
    "                y_eval = model(X_test)\n",
    "\n",
    "                predicted = torch.max(y_eval.data, 1)[1] # Adding up correct predictions\n",
    "                test_crr += (predicted == y_test).sum().item() # T=1 F=0 and sum away\n",
    "\n",
    "\n",
    "            t_loss = criterion(y_eval, y_test)\n",
    "            test_losses.append(t_loss.detach().numpy())\n",
    "\n",
    "\n",
    "        eval_acc = 100.00 * (test_crr/k)\n",
    "\n",
    "        print(f\"Test dataset: Accuracy {test_crr} / {len(test_loader.dataset)} , Accuracy {100. * test_crr / len(test_loader.dataset): .0f}% , Loss {t_loss:.6f}\")\n",
    "\n",
    "\n",
    "        if eval_acc > best_acc:\n",
    "            best_acc = eval_acc\n",
    "            save_checkpoint(model,optimizer,epoch,best_acc)\n",
    "            \n",
    "        if last == epochs:\n",
    "            last_checkpoint(model,optimizer)\n",
    "\n"
   ]
  },
  {
   "cell_type": "code",
   "execution_count": 261,
   "metadata": {},
   "outputs": [
    {
     "name": "stdout",
     "output_type": "stream",
     "text": [
      "Epoch : 1\n",
      "Train dataset: Epoch 0, 0 / 60000 , Accuracy  0% , Loss 0.000005\n",
      "Train dataset: Epoch 0, 30000 / 60000 , Accuracy  50% , Loss 0.000027\n",
      "Test dataset: Accuracy 9921 / 10000 , Accuracy  99% , Loss 0.045931\n",
      "Epoch : 2\n",
      "Train dataset: Epoch 1, 0 / 60000 , Accuracy  0% , Loss 0.000093\n",
      "Train dataset: Epoch 1, 30000 / 60000 , Accuracy  50% , Loss 0.000055\n",
      "Test dataset: Accuracy 9921 / 10000 , Accuracy  99% , Loss 0.046417\n",
      "Epoch : 3\n",
      "Train dataset: Epoch 2, 0 / 60000 , Accuracy  0% , Loss 0.000024\n",
      "Train dataset: Epoch 2, 30000 / 60000 , Accuracy  50% , Loss 0.000007\n",
      "Test dataset: Accuracy 9922 / 10000 , Accuracy  99% , Loss 0.047141\n",
      "Epoch : 4\n",
      "Train dataset: Epoch 3, 0 / 60000 , Accuracy  0% , Loss 0.000024\n",
      "Train dataset: Epoch 3, 30000 / 60000 , Accuracy  50% , Loss 0.000023\n",
      "Test dataset: Accuracy 9922 / 10000 , Accuracy  99% , Loss 0.047507\n",
      "Epoch : 5\n",
      "Train dataset: Epoch 4, 0 / 60000 , Accuracy  0% , Loss 0.000059\n",
      "Train dataset: Epoch 4, 30000 / 60000 , Accuracy  50% , Loss 0.000026\n",
      "Test dataset: Accuracy 9924 / 10000 , Accuracy  99% , Loss 0.048414\n",
      "Epoch : 6\n",
      "Train dataset: Epoch 5, 0 / 60000 , Accuracy  0% , Loss 0.000018\n",
      "Train dataset: Epoch 5, 30000 / 60000 , Accuracy  50% , Loss 0.000014\n",
      "Test dataset: Accuracy 9924 / 10000 , Accuracy  99% , Loss 0.048704\n",
      "Epoch : 7\n",
      "Train dataset: Epoch 6, 0 / 60000 , Accuracy  0% , Loss 0.000027\n",
      "Train dataset: Epoch 6, 30000 / 60000 , Accuracy  50% , Loss 0.000003\n",
      "Test dataset: Accuracy 9924 / 10000 , Accuracy  99% , Loss 0.049388\n",
      "Epoch : 8\n",
      "Train dataset: Epoch 7, 0 / 60000 , Accuracy  0% , Loss 0.000006\n",
      "Train dataset: Epoch 7, 30000 / 60000 , Accuracy  50% , Loss 0.000036\n",
      "Test dataset: Accuracy 9925 / 10000 , Accuracy  99% , Loss 0.049840\n",
      "Epoch : 9\n",
      "Train dataset: Epoch 8, 0 / 60000 , Accuracy  0% , Loss 0.000022\n",
      "Train dataset: Epoch 8, 30000 / 60000 , Accuracy  50% , Loss 0.000018\n",
      "Test dataset: Accuracy 9924 / 10000 , Accuracy  99% , Loss 0.050412\n",
      "Epoch : 10\n",
      "Train dataset: Epoch 9, 0 / 60000 , Accuracy  0% , Loss 0.000008\n",
      "Train dataset: Epoch 9, 30000 / 60000 , Accuracy  50% , Loss 0.000030\n",
      "Test dataset: Accuracy 9924 / 10000 , Accuracy  99% , Loss 0.050879\n"
     ]
    }
   ],
   "source": [
    "train_nn(10)"
   ]
  },
  {
   "cell_type": "code",
   "execution_count": 146,
   "metadata": {},
   "outputs": [],
   "source": [
    "# plt.plot([t/600 for t in train_crr], label = \"Train Correct\")\n",
    "# plt.plot([t/100 for t in test_crr], label = \"Test Correct\")\n",
    "# plt.legend()"
   ]
  },
  {
   "cell_type": "code",
   "execution_count": 221,
   "metadata": {},
   "outputs": [],
   "source": [
    "test_data_new = DataLoader(test_dataset, batch_size=10000, shuffle= False)\n",
    "\n",
    "with torch.no_grad():\n",
    "    correct = 0 \n",
    "    for l,(X_test,y_test) in enumerate(test_data_new):\n",
    "        y_eval = model(X_test)\n",
    "        predicted = torch.max(y_eval,1)[1]\n",
    "        correct += (predicted == y_test ).sum()"
   ]
  },
  {
   "cell_type": "code",
   "execution_count": 222,
   "metadata": {},
   "outputs": [
    {
     "data": {
      "text/plain": [
       "tensor(9920)"
      ]
     },
     "execution_count": 222,
     "metadata": {},
     "output_type": "execute_result"
    }
   ],
   "source": [
    "correct"
   ]
  },
  {
   "cell_type": "code",
   "execution_count": 223,
   "metadata": {},
   "outputs": [
    {
     "name": "stdout",
     "output_type": "stream",
     "text": [
      "2\n"
     ]
    },
    {
     "data": {
      "image/png": "[encoded data removed]",
      "text/plain": [
       "<Figure size 640x480 with 1 Axes>"
      ]
     },
     "metadata": {},
     "output_type": "display_data"
    }
   ],
   "source": [
    "td= test_dataset[2500]\n",
    "plt.imshow(td[0].reshape(28,28))\n",
    "print(td[1])"
   ]
  },
  {
   "cell_type": "code",
   "execution_count": null,
   "metadata": {},
   "outputs": [
    {
     "data": {
      "text/plain": [
       "MNIST_NN(\n",
       "  (conv1): Conv2d(1, 10, kernel_size=(5, 5), stride=(1, 1))\n",
       "  (conv2): Conv2d(10, 20, kernel_size=(5, 5), stride=(1, 1))\n",
       "  (fc1): Linear(in_features=320, out_features=128, bias=True)\n",
       "  (fc2): Linear(in_features=128, out_features=64, bias=True)\n",
       "  (fc3): Linear(in_features=64, out_features=10, bias=True)\n",
       ")"
      ]
     },
     "execution_count": 199,
     "metadata": {},
     "output_type": "execute_result"
    }
   ],
   "source": [
    "model.eval()"
   ]
  },
  {
   "cell_type": "code",
   "execution_count": null,
   "metadata": {},
   "outputs": [],
   "source": []
  }
 ],
 "metadata": {
  "kernelspec": {
   "display_name": "Python 3",
   "language": "python",
   "name": "python3"
  },
  "language_info": {
   "codemirror_mode": {
    "name": "ipython",
    "version": 3
   },
   "file_extension": ".py",
   "mimetype": "text/x-python",
   "name": "python",
   "nbconvert_exporter": "python",
   "pygments_lexer": "ipython3",
   "version": "3.12.4"
  }
 },
 "nbformat": 4,
 "nbformat_minor": 2
}
